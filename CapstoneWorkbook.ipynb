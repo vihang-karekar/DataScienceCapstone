{
 "cells": [
  {
   "cell_type": "code",
   "execution_count": 1,
   "metadata": {},
   "outputs": [],
   "source": [
    "import pandas as pd\n",
    "import numpy as np"
   ]
  },
  {
   "cell_type": "code",
   "execution_count": 2,
   "metadata": {},
   "outputs": [
    {
     "data": {
      "text/plain": [
       "(221738, 40)"
      ]
     },
     "execution_count": 2,
     "metadata": {},
     "output_type": "execute_result"
    }
   ],
   "source": [
    "coll_pd=pd.read_csv(\"https://opendata.arcgis.com/datasets/5b5c745e0f1f48e7a53acec63a0022ab_0.csv\")\n",
    "coll_pd.shape"
   ]
  },
  {
   "cell_type": "code",
   "execution_count": 3,
   "metadata": {},
   "outputs": [
    {
     "data": {
      "text/plain": [
       "X                  float64\n",
       "Y                  float64\n",
       "OBJECTID             int64\n",
       "INCKEY               int64\n",
       "COLDETKEY            int64\n",
       "REPORTNO            object\n",
       "STATUS              object\n",
       "ADDRTYPE            object\n",
       "INTKEY             float64\n",
       "LOCATION            object\n",
       "EXCEPTRSNCODE       object\n",
       "EXCEPTRSNDESC       object\n",
       "SEVERITYCODE        object\n",
       "SEVERITYDESC        object\n",
       "COLLISIONTYPE       object\n",
       "PERSONCOUNT          int64\n",
       "PEDCOUNT             int64\n",
       "PEDCYLCOUNT          int64\n",
       "VEHCOUNT             int64\n",
       "INJURIES             int64\n",
       "SERIOUSINJURIES      int64\n",
       "FATALITIES           int64\n",
       "INCDATE             object\n",
       "INCDTTM             object\n",
       "JUNCTIONTYPE        object\n",
       "SDOT_COLCODE       float64\n",
       "SDOT_COLDESC        object\n",
       "INATTENTIONIND      object\n",
       "UNDERINFL           object\n",
       "WEATHER             object\n",
       "ROADCOND            object\n",
       "LIGHTCOND           object\n",
       "PEDROWNOTGRNT       object\n",
       "SDOTCOLNUM         float64\n",
       "SPEEDING            object\n",
       "ST_COLCODE          object\n",
       "ST_COLDESC          object\n",
       "SEGLANEKEY           int64\n",
       "CROSSWALKKEY         int64\n",
       "HITPARKEDCAR        object\n",
       "dtype: object"
      ]
     },
     "execution_count": 3,
     "metadata": {},
     "output_type": "execute_result"
    }
   ],
   "source": [
    "coll_pd.dtypes"
   ]
  },
  {
   "cell_type": "code",
   "execution_count": 52,
   "metadata": {},
   "outputs": [
    {
     "data": {
      "text/plain": [
       "1     137776\n",
       "2      58842\n",
       "0      21656\n",
       "2b      3111\n",
       "3        352\n",
       "Name: SEVERITYCODE, dtype: int64"
      ]
     },
     "execution_count": 52,
     "metadata": {},
     "output_type": "execute_result"
    }
   ],
   "source": [
    "coll_human_pd = coll_pd[['SEVERITYCODE','ADDRTYPE','SEVERITYDESC','COLLISIONTYPE','INATTENTIONIND','UNDERINFL','PEDROWNOTGRNT','SPEEDING']]\n",
    "coll_human_pd['SEVERITYCODE'].value_counts()"
   ]
  },
  {
   "cell_type": "code",
   "execution_count": 53,
   "metadata": {},
   "outputs": [
    {
     "name": "stderr",
     "output_type": "stream",
     "text": [
      "C:\\java\\anaconda3\\lib\\site-packages\\ipykernel_launcher.py:3: SettingWithCopyWarning: \n",
      "A value is trying to be set on a copy of a slice from a DataFrame\n",
      "\n",
      "See the caveats in the documentation: https://pandas.pydata.org/pandas-docs/stable/user_guide/indexing.html#returning-a-view-versus-a-copy\n",
      "  This is separate from the ipykernel package so we can avoid doing imports until\n"
     ]
    },
    {
     "data": {
      "text/plain": [
       "1     137776\n",
       "2      58842\n",
       "0      21656\n",
       "2b      3111\n",
       "3        352\n",
       "Name: SEVERITYCODE, dtype: int64"
      ]
     },
     "execution_count": 53,
     "metadata": {},
     "output_type": "execute_result"
    }
   ],
   "source": [
    "#Data Preparation\n",
    "# 1. SEVERITYCODE, drop 'nan', nan\n",
    "coll_human_pd.dropna(subset=['SEVERITYCODE'], how='all', inplace=True)\n",
    "coll_human_pd = coll_human_pd[coll_human_pd['SEVERITYCODE']!='nan']\n",
    "coll_human_pd['SEVERITYCODE'] = coll_human_pd['SEVERITYCODE'].astype('str')\n",
    "coll_human_pd['SEVERITYCODE'].value_counts()"
   ]
  },
  {
   "cell_type": "code",
   "execution_count": 54,
   "metadata": {},
   "outputs": [
    {
     "name": "stdout",
     "output_type": "stream",
     "text": [
      "shape before:  (221737, 8)\n",
      "shape after:  (195307, 8)\n"
     ]
    }
   ],
   "source": [
    "#Data Preparation\n",
    "# 2. drop nan records when all human factors are nan\n",
    "print(\"shape before: \",coll_human_pd.shape)\n",
    "coll_human_pd.dropna(subset=['INATTENTIONIND','UNDERINFL','PEDROWNOTGRNT','SPEEDING'], how='all', inplace=True)\n",
    "print(\"shape after: \",coll_human_pd.shape)"
   ]
  },
  {
   "cell_type": "code",
   "execution_count": 55,
   "metadata": {},
   "outputs": [
    {
     "data": {
      "text/plain": [
       "0    165119\n",
       "1     30188\n",
       "Name: INATTENTIONIND, dtype: int64"
      ]
     },
     "execution_count": 55,
     "metadata": {},
     "output_type": "execute_result"
    }
   ],
   "source": [
    "#Data Preparation\n",
    "# 3. Standardize INATTENTIONIND: NaN to 0, N to 0, Y to 1\n",
    "\n",
    "coll_human_pd['INATTENTIONIND'] = coll_human_pd['INATTENTIONIND'].replace(np.nan, '0')\n",
    "coll_human_pd['INATTENTIONIND'] = coll_human_pd['INATTENTIONIND'].replace('N', '0')\n",
    "coll_human_pd['INATTENTIONIND'] = coll_human_pd['INATTENTIONIND'].replace('Y','1')\n",
    "coll_human_pd['INATTENTIONIND'] = coll_human_pd['INATTENTIONIND'].astype('int')\n",
    "coll_human_pd['INATTENTIONIND'].value_counts()"
   ]
  },
  {
   "cell_type": "code",
   "execution_count": 56,
   "metadata": {},
   "outputs": [
    {
     "data": {
      "text/plain": [
       "0    185678\n",
       "1      9629\n",
       "Name: UNDERINFL, dtype: int64"
      ]
     },
     "execution_count": 56,
     "metadata": {},
     "output_type": "execute_result"
    }
   ],
   "source": [
    "# 4. Standardize UNDERINFL: NaN to 0, N to 0, Y to 1\n",
    "\n",
    "coll_human_pd['UNDERINFL'] = coll_human_pd['UNDERINFL'].replace(np.nan, '0')\n",
    "coll_human_pd['UNDERINFL'] = coll_human_pd['UNDERINFL'].replace('N', '0')\n",
    "coll_human_pd['UNDERINFL'] = coll_human_pd['UNDERINFL'].replace('Y','1')\n",
    "coll_human_pd['UNDERINFL'] = coll_human_pd['UNDERINFL'].astype('int')\n",
    "coll_human_pd['UNDERINFL'].value_counts()"
   ]
  },
  {
   "cell_type": "code",
   "execution_count": 57,
   "metadata": {},
   "outputs": [
    {
     "data": {
      "text/plain": [
       "0    185371\n",
       "1      9936\n",
       "Name: SPEEDING, dtype: int64"
      ]
     },
     "execution_count": 57,
     "metadata": {},
     "output_type": "execute_result"
    }
   ],
   "source": [
    "# 5. Standardize SPEEDING: nan to 0, N to 0, Y to 1\n",
    "\n",
    "coll_human_pd['SPEEDING'] = coll_human_pd['SPEEDING'].replace(np.nan, '0')\n",
    "coll_human_pd['SPEEDING'] = coll_human_pd['SPEEDING'].replace('N', '0')\n",
    "coll_human_pd['SPEEDING'] = coll_human_pd['SPEEDING'].replace('Y','1')\n",
    "coll_human_pd['SPEEDING'] = coll_human_pd['SPEEDING'].astype('int')\n",
    "coll_human_pd['SPEEDING'].value_counts()"
   ]
  },
  {
   "cell_type": "code",
   "execution_count": 58,
   "metadata": {},
   "outputs": [
    {
     "data": {
      "text/plain": [
       "0    190112\n",
       "1      5195\n",
       "Name: PEDROWNOTGRNT, dtype: int64"
      ]
     },
     "execution_count": 58,
     "metadata": {},
     "output_type": "execute_result"
    }
   ],
   "source": [
    "# 4. Standardize PEDROWNOTGRNT: Nan to 0, N to 0, Y to 1\n",
    "coll_human_pd['PEDROWNOTGRNT'] = coll_human_pd['PEDROWNOTGRNT'].replace(np.nan, '0')\n",
    "coll_human_pd['PEDROWNOTGRNT'] = coll_human_pd['PEDROWNOTGRNT'].replace('N', '0')\n",
    "coll_human_pd['PEDROWNOTGRNT'] = coll_human_pd['PEDROWNOTGRNT'].replace('Y','1')\n",
    "coll_human_pd['PEDROWNOTGRNT'] = coll_human_pd['PEDROWNOTGRNT'].astype('int')\n",
    "coll_human_pd['PEDROWNOTGRNT'].value_counts()"
   ]
  },
  {
   "cell_type": "code",
   "execution_count": null,
   "metadata": {},
   "outputs": [],
   "source": []
  },
  {
   "cell_type": "code",
   "execution_count": 59,
   "metadata": {},
   "outputs": [
    {
     "name": "stdout",
     "output_type": "stream",
     "text": [
      "Train set: (156245, 4) (156245,)\n",
      "Test set: (39062, 4) (39062,)\n"
     ]
    }
   ],
   "source": [
    "# Logistic Regression on Human factors\n",
    "\n",
    "X = np.asarray(coll_human_pd[['INATTENTIONIND', 'SPEEDING', 'UNDERINFL', 'PEDROWNOTGRNT']])\n",
    "y = np.asarray(coll_human_pd['SEVERITYCODE'])\n",
    "\n",
    "from sklearn import preprocessing\n",
    "X = preprocessing.StandardScaler().fit(X).transform(X)\n",
    "\n",
    "from sklearn.model_selection import train_test_split\n",
    "X_train, X_test, y_train, y_test = train_test_split( X, y, test_size=0.2, random_state=4)\n",
    "print ('Train set:', X_train.shape,  y_train.shape)\n",
    "print ('Test set:', X_test.shape,  y_test.shape)\n",
    "\n",
    "from sklearn.linear_model import LogisticRegression\n",
    "from sklearn.metrics import confusion_matrix\n",
    "LR = LogisticRegression(C=0.01, solver='liblinear').fit(X_train,y_train)\n",
    "\n",
    "yhat = LR.predict(X_test)\n",
    "\n",
    "yhat_prob = LR.predict_proba(X_test)\n",
    "print(LR.coef_, LR.intercept_)"
   ]
  },
  {
   "cell_type": "code",
   "execution_count": 60,
   "metadata": {},
   "outputs": [],
   "source": [
    "# Defining plot_confusion_matrix function\n",
    "\n",
    "import pylab as pl\n",
    "import scipy.optimize as opt\n",
    "from sklearn import preprocessing\n",
    "%matplotlib inline \n",
    "import matplotlib.pyplot as plt\n",
    "\n",
    "from sklearn.metrics import classification_report, confusion_matrix\n",
    "import itertools\n",
    "def plot_confusion_matrix(cm, classes,\n",
    "                          normalize=False,\n",
    "                          title='Confusion matrix',\n",
    "                          cmap=plt.cm.Blues):\n",
    "    \"\"\"\n",
    "    This function prints and plots the confusion matrix.\n",
    "    Normalization can be applied by setting `normalize=True`.\n",
    "    \"\"\"\n",
    "    if normalize:\n",
    "        cm = cm.astype('float') / cm.sum(axis=1)[:, np.newaxis]\n",
    "        print(\"Normalized confusion matrix\")\n",
    "    else:\n",
    "        print('Confusion matrix, without normalization')\n",
    "\n",
    "    print(cm)\n",
    "\n",
    "    plt.imshow(cm, interpolation='nearest', cmap=cmap)\n",
    "    plt.title(title)\n",
    "    plt.colorbar()\n",
    "    tick_marks = np.arange(len(classes))\n",
    "    plt.xticks(tick_marks, classes, rotation=45)\n",
    "    plt.yticks(tick_marks, classes)\n",
    "\n",
    "    fmt = '.2f' if normalize else 'd'\n",
    "    thresh = cm.max() / 2.\n",
    "    for i, j in itertools.product(range(cm.shape[0]), range(cm.shape[1])):\n",
    "        plt.text(j, i, format(cm[i, j], fmt),\n",
    "                 horizontalalignment=\"center\",\n",
    "                 color=\"white\" if cm[i, j] > thresh else \"black\")\n",
    "\n",
    "    plt.tight_layout()\n",
    "    plt.ylabel('True label')\n",
    "    plt.xlabel('Predicted label')"
   ]
  },
  {
   "cell_type": "code",
   "execution_count": 61,
   "metadata": {},
   "outputs": [
    {
     "name": "stdout",
     "output_type": "stream",
     "text": [
      "['1' '2' '2b' '3']\n",
      "['1' '2']\n",
      "['1' '2']\n",
      "Before:  39062 39062\n"
     ]
    },
    {
     "name": "stderr",
     "output_type": "stream",
     "text": [
      "C:\\java\\anaconda3\\lib\\site-packages\\sklearn\\metrics\\_classification.py:664: FutureWarning: jaccard_similarity_score has been deprecated and replaced with jaccard_score. It will be removed in version 0.23. This implementation has surprising behavior for binary and multiclass classification tasks.\n",
      "  FutureWarning)\n"
     ]
    },
    {
     "name": "stdout",
     "output_type": "stream",
     "text": [
      "jaccard_similarity_score: 0.7092826788182889\n"
     ]
    },
    {
     "name": "stderr",
     "output_type": "stream",
     "text": [
      "C:\\java\\anaconda3\\lib\\site-packages\\sklearn\\metrics\\_classification.py:1272: UndefinedMetricWarning: Precision and F-score are ill-defined and being set to 0.0 in labels with no predicted samples. Use `zero_division` parameter to control this behavior.\n",
      "  _warn_prf(average, modifier, msg_start, len(result))\n"
     ]
    },
    {
     "name": "stdout",
     "output_type": "stream",
     "text": [
      "              precision    recall  f1-score   support\n",
      "\n",
      "           1       0.71      1.00      0.83     26947\n",
      "           2       0.83      0.07      0.14     11445\n",
      "          2b       0.00      0.00      0.00       618\n",
      "           3       0.00      0.00      0.00        52\n",
      "\n",
      "    accuracy                           0.71     39062\n",
      "   macro avg       0.38      0.27      0.24     39062\n",
      "weighted avg       0.73      0.71      0.61     39062\n",
      "\n"
     ]
    }
   ],
   "source": [
    "print(np.unique(y_test))\n",
    "print(np.unique(yhat))\n",
    "print(np.unique(yhat))\n",
    "print(\"Before: \",np.size(y_test), np.size(yhat))\n",
    "\n",
    "from sklearn.metrics import jaccard_similarity_score\n",
    "print ('jaccard_similarity_score:', jaccard_similarity_score(y_test, yhat))\n",
    "\n",
    "#from sklearn.metrics import log_loss\n",
    "#print ('log_loss: ', log_loss(y_test, yhat_prob))\n",
    "\n",
    "print (classification_report(y_test, yhat))"
   ]
  },
  {
   "cell_type": "code",
   "execution_count": 62,
   "metadata": {},
   "outputs": [
    {
     "name": "stdout",
     "output_type": "stream",
     "text": [
      "Confusion matrix, without normalization\n",
      "[[    0     0     0     0     0]\n",
      " [    0 26857    90     0     0]\n",
      " [    0 10596   849     0     0]\n",
      " [    0   538    80     0     0]\n",
      " [    0    43     9     0     0]]\n"
     ]
    },
    {
     "data": {
      "image/png": "[encoded data removed]",
      "text/plain": [
       "<Figure size 432x288 with 2 Axes>"
      ]
     },
     "metadata": {
      "needs_background": "light"
     },
     "output_type": "display_data"
    }
   ],
   "source": [
    "cnf_matrix = confusion_matrix(y_test, yhat, labels=[0,1,2,'2b',3])\n",
    "np.set_printoptions(precision=2)\n",
    "\n",
    "\n",
    "# Plot non-normalized confusion matrix\n",
    "plt.figure()\n",
    "plot_confusion_matrix(cnf_matrix, classes=['SC=0','SC=1','SC=2','SC=2b','SC=3'],normalize= False,  title='Confusion matrix (SC=SEVERITYCODE)')"
   ]
  },
  {
   "cell_type": "code",
   "execution_count": 91,
   "metadata": {},
   "outputs": [],
   "source": [
    "coll_nature_pd = coll_pd[['SEVERITYCODE','ADDRTYPE','SEVERITYDESC','COLLISIONTYPE','WEATHER','ROADCOND','LIGHTCOND']]"
   ]
  },
  {
   "cell_type": "code",
   "execution_count": 92,
   "metadata": {},
   "outputs": [
    {
     "name": "stderr",
     "output_type": "stream",
     "text": [
      "C:\\java\\anaconda3\\lib\\site-packages\\ipykernel_launcher.py:3: SettingWithCopyWarning: \n",
      "A value is trying to be set on a copy of a slice from a DataFrame\n",
      "\n",
      "See the caveats in the documentation: https://pandas.pydata.org/pandas-docs/stable/user_guide/indexing.html#returning-a-view-versus-a-copy\n",
      "  This is separate from the ipykernel package so we can avoid doing imports until\n"
     ]
    },
    {
     "data": {
      "text/plain": [
       "1     137776\n",
       "2      58842\n",
       "0      21656\n",
       "2b      3111\n",
       "3        352\n",
       "Name: SEVERITYCODE, dtype: int64"
      ]
     },
     "execution_count": 92,
     "metadata": {},
     "output_type": "execute_result"
    }
   ],
   "source": [
    "#Data Preparation\n",
    "# 1. SEVERITYCODE, drop 'nan', nan\n",
    "coll_nature_pd.dropna(subset=['SEVERITYCODE'], how='all', inplace=True)\n",
    "coll_nature_pd = coll_nature_pd[coll_nature_pd['SEVERITYCODE']!='nan']\n",
    "coll_nature_pd['SEVERITYCODE'] = coll_nature_pd['SEVERITYCODE'].astype('str')\n",
    "coll_nature_pd['SEVERITYCODE'].value_counts()"
   ]
  },
  {
   "cell_type": "code",
   "execution_count": 93,
   "metadata": {},
   "outputs": [
    {
     "name": "stdout",
     "output_type": "stream",
     "text": [
      "shape before:  (221737, 7)\n",
      "shape after:  (195243, 7)\n"
     ]
    }
   ],
   "source": [
    "#Data Preparation\n",
    "# 2. drop nan records when all natural factors are nan\n",
    "print(\"shape before: \",coll_nature_pd.shape)\n",
    "coll_nature_pd.dropna(subset=['WEATHER','ROADCOND','LIGHTCOND'], how='all', inplace=True)\n",
    "columns = ['WEATHER','ROADCOND','LIGHTCOND']\n",
    "#coll_nature_pd['SEVERITYCODE'] = coll_nature_pd[columns].ne('Unknown').all(axis=1)\n",
    "print(\"shape after: \",coll_nature_pd.shape)"
   ]
  },
  {
   "cell_type": "code",
   "execution_count": 94,
   "metadata": {},
   "outputs": [
    {
     "data": {
      "text/plain": [
       "Clear                       114807\n",
       "Raining                      34038\n",
       "Overcast                     28555\n",
       "Unknown                      15278\n",
       "Snowing                        919\n",
       "Other                          860\n",
       "Fog/Smog/Smoke                 577\n",
       "Sleet/Hail/Freezing Rain       116\n",
       "Blowing Sand/Dirt               56\n",
       "Severe Crosswind                26\n",
       "Partly Cloudy                   10\n",
       "Blowing Snow                     1\n",
       "Name: WEATHER, dtype: int64"
      ]
     },
     "execution_count": 94,
     "metadata": {},
     "output_type": "execute_result"
    }
   ],
   "source": [
    "#Data Preparation\n",
    "# 3. Standardize WEATHER: NaN to Unknown\n",
    "\n",
    "coll_nature_pd['WEATHER'] = coll_nature_pd['WEATHER'].replace(np.nan, 'Unknown')\n",
    "coll_nature_pd['WEATHER'].value_counts()"
   ]
  },
  {
   "cell_type": "code",
   "execution_count": 95,
   "metadata": {},
   "outputs": [
    {
     "data": {
      "text/plain": [
       "Dry               128660\n",
       "Wet                48736\n",
       "Unknown            15205\n",
       "Ice                 1232\n",
       "Snow/Slush          1014\n",
       "Other                136\n",
       "Standing Water       119\n",
       "Sand/Mud/Dirt         77\n",
       "Oil                   64\n",
       "Name: ROADCOND, dtype: int64"
      ]
     },
     "execution_count": 95,
     "metadata": {},
     "output_type": "execute_result"
    }
   ],
   "source": [
    "#Data Preparation\n",
    "# 4. Standardize ROADCOND: NaN to Unknown\n",
    "\n",
    "coll_nature_pd['ROADCOND'] = coll_nature_pd['ROADCOND'].replace(np.nan, 'Unknown')\n",
    "coll_nature_pd['ROADCOND'].value_counts()"
   ]
  },
  {
   "cell_type": "code",
   "execution_count": 96,
   "metadata": {},
   "outputs": [
    {
     "data": {
      "text/plain": [
       "Daylight                    119554\n",
       "Dark - Street Lights On      50139\n",
       "Unknown                      13769\n",
       "Dusk                          6085\n",
       "Dawn                          2609\n",
       "Dark - No Street Lights       1580\n",
       "Dark - Street Lights Off      1239\n",
       "Other                          244\n",
       "Dark - Unknown Lighting         24\n",
       "Name: LIGHTCOND, dtype: int64"
      ]
     },
     "execution_count": 96,
     "metadata": {},
     "output_type": "execute_result"
    }
   ],
   "source": [
    "#Data Preparation\n",
    "# 5. Standardize LIGHTCOND: NaN to Unknown\n",
    "\n",
    "coll_nature_pd['LIGHTCOND'] = coll_nature_pd['LIGHTCOND'].replace(np.nan, 'Unknown')\n",
    "coll_nature_pd['LIGHTCOND'].value_counts()"
   ]
  },
  {
   "cell_type": "code",
   "execution_count": 83,
   "metadata": {},
   "outputs": [
    {
     "name": "stdout",
     "output_type": "stream",
     "text": [
      "shape before:  (195243, 7)\n",
      "shape after:  (195243, 7)\n"
     ]
    }
   ],
   "source": [
    "#Data Preparation\n",
    "# 6. drop records when all natural factors are 'Unknown'\n",
    "print(\"shape before: \",coll_nature_pd.shape)\n",
    "columns = ['WEATHER','ROADCOND','LIGHTCOND']\n",
    "#coll_nature_pd['SEVERITYCODE'] = coll_nature_pd[columns].ne('Unknown').all(axis=1)\n",
    "print(\"shape after: \",coll_nature_pd.shape)"
   ]
  },
  {
   "cell_type": "code",
   "execution_count": 97,
   "metadata": {},
   "outputs": [],
   "source": [
    "coll_nature_pd['WEATHER'] = coll_nature_pd['WEATHER'].astype('category')\n",
    "coll_nature_pd['ROADCOND'] = coll_nature_pd['ROADCOND'].astype('category')\n",
    "coll_nature_pd['LIGHTCOND'] = coll_nature_pd['LIGHTCOND'].astype('category')\n",
    "cat_columns = coll_nature_pd.select_dtypes(['category']).columns\n",
    "coll_nature_pd[cat_columns] = coll_nature_pd[cat_columns].apply(lambda x: x.cat.codes)\n"
   ]
  },
  {
   "cell_type": "code",
   "execution_count": 98,
   "metadata": {},
   "outputs": [
    {
     "name": "stdout",
     "output_type": "stream",
     "text": [
      "Train set: (156194, 3) (156194,)\n",
      "Test set: (39049, 3) (39049,)\n"
     ]
    }
   ],
   "source": [
    "# Logistic Regression on Human factors\n",
    "\n",
    "X = np.asarray(coll_nature_pd[['WEATHER','ROADCOND','LIGHTCOND']])\n",
    "y = np.asarray(coll_nature_pd['SEVERITYCODE'])\n",
    "\n",
    "from sklearn import preprocessing\n",
    "X = preprocessing.StandardScaler().fit(X).transform(X)\n",
    "\n",
    "from sklearn.model_selection import train_test_split\n",
    "X_train, X_test, y_train, y_test = train_test_split( X, y, test_size=0.2, random_state=4)\n",
    "print ('Train set:', X_train.shape,  y_train.shape)\n",
    "print ('Test set:', X_test.shape,  y_test.shape)\n",
    "\n",
    "from sklearn.linear_model import LogisticRegression\n",
    "from sklearn.metrics import confusion_matrix\n",
    "LR = LogisticRegression(C=0.01, solver='liblinear').fit(X_train,y_train)\n",
    "\n",
    "yhat = LR.predict(X_test)\n",
    "\n",
    "yhat_prob = LR.predict_proba(X_test)\n",
    "print(LR.coef_, LR.intercept_)"
   ]
  },
  {
   "cell_type": "code",
   "execution_count": 100,
   "metadata": {},
   "outputs": [
    {
     "name": "stdout",
     "output_type": "stream",
     "text": [
      "['1' '2' '2b' '3']\n",
      "['1' '2']\n",
      "['1' '2']\n",
      "Before:  39049 39049\n",
      "jaccard_similarity_score: 0.6875720248918026\n"
     ]
    },
    {
     "name": "stderr",
     "output_type": "stream",
     "text": [
      "C:\\java\\anaconda3\\lib\\site-packages\\sklearn\\metrics\\_classification.py:664: FutureWarning: jaccard_similarity_score has been deprecated and replaced with jaccard_score. It will be removed in version 0.23. This implementation has surprising behavior for binary and multiclass classification tasks.\n",
      "  FutureWarning)\n",
      "C:\\java\\anaconda3\\lib\\site-packages\\sklearn\\metrics\\_classification.py:1272: UndefinedMetricWarning: Precision and F-score are ill-defined and being set to 0.0 in labels with no predicted samples. Use `zero_division` parameter to control this behavior.\n",
      "  _warn_prf(average, modifier, msg_start, len(result))\n"
     ]
    },
    {
     "name": "stdout",
     "output_type": "stream",
     "text": [
      "              precision    recall  f1-score   support\n",
      "\n",
      "           1       0.69      1.00      0.81     26848\n",
      "           2       1.00      0.00      0.00     11526\n",
      "          2b       0.00      0.00      0.00       602\n",
      "           3       0.00      0.00      0.00        73\n",
      "\n",
      "    accuracy                           0.69     39049\n",
      "   macro avg       0.42      0.25      0.20     39049\n",
      "weighted avg       0.77      0.69      0.56     39049\n",
      "\n"
     ]
    }
   ],
   "source": [
    "print(np.unique(y_test))\n",
    "print(np.unique(yhat))\n",
    "print(np.unique(yhat))\n",
    "print(\"Before: \",np.size(y_test), np.size(yhat))\n",
    "\n",
    "from sklearn.metrics import jaccard_similarity_score\n",
    "print ('jaccard_similarity_score:', jaccard_similarity_score(y_test, yhat))\n",
    "\n",
    "#from sklearn.metrics import log_loss\n",
    "#print ('log_loss: ', log_loss(y_test, yhat_prob))\n",
    "\n",
    "print (classification_report(y_test, yhat))"
   ]
  },
  {
   "cell_type": "code",
   "execution_count": 101,
   "metadata": {},
   "outputs": [
    {
     "name": "stdout",
     "output_type": "stream",
     "text": [
      "Confusion matrix, without normalization\n",
      "[[    0     0     0     0     0]\n",
      " [    0 26848     0     0     0]\n",
      " [    0 11525     1     0     0]\n",
      " [    0   602     0     0     0]\n",
      " [    0    73     0     0     0]]\n"
     ]
    },
    {
     "data": {
      "image/png": "[encoded data removed]",
      "text/plain": [
       "<Figure size 432x288 with 2 Axes>"
      ]
     },
     "metadata": {
      "needs_background": "light"
     },
     "output_type": "display_data"
    }
   ],
   "source": [
    "cnf_matrix = confusion_matrix(y_test, yhat, labels=[0,1,2,'2b',3])\n",
    "np.set_printoptions(precision=2)\n",
    "\n",
    "\n",
    "# Plot non-normalized confusion matrix\n",
    "plt.figure()\n",
    "plot_confusion_matrix(cnf_matrix, classes=['SC=0','SC=1','SC=2','SC=2b','SC=3'],normalize= False,  title='Confusion matrix (SC=SEVERITYCODE)')"
   ]
  },
  {
   "cell_type": "markdown",
   "metadata": {},
   "source": [
    "# Natural factors approach 2"
   ]
  },
  {
   "cell_type": "code",
   "execution_count": 147,
   "metadata": {},
   "outputs": [],
   "source": [
    "coll_nature_pd = coll_pd[['SEVERITYCODE','ADDRTYPE','SEVERITYDESC','COLLISIONTYPE','WEATHER','ROADCOND','LIGHTCOND']]"
   ]
  },
  {
   "cell_type": "code",
   "execution_count": 148,
   "metadata": {},
   "outputs": [
    {
     "name": "stderr",
     "output_type": "stream",
     "text": [
      "C:\\java\\anaconda3\\lib\\site-packages\\ipykernel_launcher.py:3: SettingWithCopyWarning: \n",
      "A value is trying to be set on a copy of a slice from a DataFrame\n",
      "\n",
      "See the caveats in the documentation: https://pandas.pydata.org/pandas-docs/stable/user_guide/indexing.html#returning-a-view-versus-a-copy\n",
      "  This is separate from the ipykernel package so we can avoid doing imports until\n"
     ]
    },
    {
     "data": {
      "text/plain": [
       "1     137776\n",
       "2      58842\n",
       "0      21656\n",
       "2b      3111\n",
       "3        352\n",
       "Name: SEVERITYCODE, dtype: int64"
      ]
     },
     "execution_count": 148,
     "metadata": {},
     "output_type": "execute_result"
    }
   ],
   "source": [
    "#Data Preparation\n",
    "# 1. SEVERITYCODE, drop 'nan', nan\n",
    "coll_nature_pd.dropna(subset=['SEVERITYCODE'], how='all', inplace=True)\n",
    "coll_nature_pd = coll_nature_pd[coll_nature_pd['SEVERITYCODE']!='nan']\n",
    "coll_nature_pd['SEVERITYCODE'] = coll_nature_pd['SEVERITYCODE'].astype('str')\n",
    "coll_nature_pd['SEVERITYCODE'].value_counts()"
   ]
  },
  {
   "cell_type": "code",
   "execution_count": 149,
   "metadata": {},
   "outputs": [
    {
     "name": "stdout",
     "output_type": "stream",
     "text": [
      "shape before:  (221737, 7)\n",
      "shape after:  (195243, 7)\n"
     ]
    }
   ],
   "source": [
    "#Data Preparation\n",
    "# 2. drop nan records when all natural factors are nan\n",
    "print(\"shape before: \",coll_nature_pd.shape)\n",
    "coll_nature_pd.dropna(subset=['WEATHER','ROADCOND','LIGHTCOND'], how='all', inplace=True)\n",
    "columns = ['WEATHER','ROADCOND','LIGHTCOND']\n",
    "#coll_nature_pd['SEVERITYCODE'] = coll_nature_pd[columns].ne('Unknown').all(axis=1)\n",
    "print(\"shape after: \",coll_nature_pd.shape)"
   ]
  },
  {
   "cell_type": "code",
   "execution_count": 151,
   "metadata": {
    "scrolled": true
   },
   "outputs": [
    {
     "data": {
      "text/plain": [
       "0    114807\n",
       "1     80436\n",
       "Name: WEATHER, dtype: int64"
      ]
     },
     "execution_count": 151,
     "metadata": {},
     "output_type": "execute_result"
    }
   ],
   "source": [
    "#Data Preparation\n",
    "# 3. Standardize WEATHER: NaN to Unknown, Dry as 0, others as 1\n",
    "\n",
    "coll_nature_pd['WEATHER'] = coll_nature_pd['WEATHER'].replace(np.nan, 'Unknown')\n",
    "unique_values = coll_nature_pd.WEATHER.unique().tolist()\n",
    "unique_values.remove('Clear')\n",
    "coll_nature_pd['WEATHER'] = coll_nature_pd['WEATHER'].replace(unique_values, 1)\n",
    "coll_nature_pd['WEATHER'] = coll_nature_pd['WEATHER'].replace('Clear', 0)\n",
    "coll_nature_pd['WEATHER'].value_counts()"
   ]
  },
  {
   "cell_type": "code",
   "execution_count": 152,
   "metadata": {},
   "outputs": [
    {
     "data": {
      "text/plain": [
       "0    128660\n",
       "1     66583\n",
       "Name: ROADCOND, dtype: int64"
      ]
     },
     "execution_count": 152,
     "metadata": {},
     "output_type": "execute_result"
    }
   ],
   "source": [
    "#Data Preparation\n",
    "# 4. Standardize ROADCOND: NaN to Unknown, Dry as 0, others as 1\n",
    "\n",
    "coll_nature_pd['ROADCOND'] = coll_nature_pd['ROADCOND'].replace(np.nan, 'Unknown')\n",
    "unique_values = coll_nature_pd.ROADCOND.unique().tolist()\n",
    "unique_values.remove('Dry')\n",
    "coll_nature_pd['ROADCOND'] = coll_nature_pd['ROADCOND'].replace(unique_values, 1)\n",
    "coll_nature_pd['ROADCOND'] = coll_nature_pd['ROADCOND'].replace('Dry', 0)\n",
    "coll_nature_pd['ROADCOND'].value_counts()"
   ]
  },
  {
   "cell_type": "code",
   "execution_count": 153,
   "metadata": {},
   "outputs": [
    {
     "data": {
      "text/plain": [
       "0    119554\n",
       "1     75689\n",
       "Name: LIGHTCOND, dtype: int64"
      ]
     },
     "execution_count": 153,
     "metadata": {},
     "output_type": "execute_result"
    }
   ],
   "source": [
    "#Data Preparation\n",
    "# 5. Standardize LIGHTCOND: NaN to Unknown, Daylight as 0, others as 1\n",
    "\n",
    "coll_nature_pd['LIGHTCOND'] = coll_nature_pd['LIGHTCOND'].replace(np.nan, 'Unknown')\n",
    "unique_values = coll_nature_pd.LIGHTCOND.unique().tolist()\n",
    "unique_values.remove('Daylight')\n",
    "coll_nature_pd['LIGHTCOND'] = coll_nature_pd['LIGHTCOND'].replace(unique_values, 1)\n",
    "coll_nature_pd['LIGHTCOND'] = coll_nature_pd['LIGHTCOND'].replace('Daylight', 0)\n",
    "coll_nature_pd['LIGHTCOND'].value_counts()"
   ]
  },
  {
   "cell_type": "code",
   "execution_count": 154,
   "metadata": {},
   "outputs": [
    {
     "name": "stdout",
     "output_type": "stream",
     "text": [
      "Train set: (156194, 3) (156194,)\n",
      "Test set: (39049, 3) (39049,)\n"
     ]
    }
   ],
   "source": [
    "# Logistic Regression on Human factors\n",
    "\n",
    "X = np.asarray(coll_nature_pd[['WEATHER','ROADCOND','LIGHTCOND']])\n",
    "y = np.asarray(coll_nature_pd['SEVERITYCODE'])\n",
    "\n",
    "from sklearn import preprocessing\n",
    "X = preprocessing.StandardScaler().fit(X).transform(X)\n",
    "\n",
    "from sklearn.model_selection import train_test_split\n",
    "X_train, X_test, y_train, y_test = train_test_split( X, y, test_size=0.2, random_state=4)\n",
    "print ('Train set:', X_train.shape,  y_train.shape)\n",
    "print ('Test set:', X_test.shape,  y_test.shape)\n",
    "\n",
    "from sklearn.linear_model import LogisticRegression\n",
    "from sklearn.metrics import confusion_matrix\n",
    "LR = LogisticRegression(C=0.01, solver='liblinear').fit(X_train,y_train)\n",
    "\n",
    "yhat = LR.predict(X_test)\n",
    "\n",
    "yhat_prob = LR.predict_proba(X_test)\n",
    "print(LR.coef_, LR.intercept_)"
   ]
  },
  {
   "cell_type": "code",
   "execution_count": 156,
   "metadata": {},
   "outputs": [
    {
     "name": "stdout",
     "output_type": "stream",
     "text": [
      "['1' '2' '2b' '3']\n",
      "['1']\n",
      "Before:  39049 39049\n",
      "jaccard_similarity_score: 0.6875464160413839\n"
     ]
    },
    {
     "name": "stderr",
     "output_type": "stream",
     "text": [
      "C:\\java\\anaconda3\\lib\\site-packages\\sklearn\\metrics\\_classification.py:664: FutureWarning: jaccard_similarity_score has been deprecated and replaced with jaccard_score. It will be removed in version 0.23. This implementation has surprising behavior for binary and multiclass classification tasks.\n",
      "  FutureWarning)\n",
      "C:\\java\\anaconda3\\lib\\site-packages\\sklearn\\metrics\\_classification.py:1272: UndefinedMetricWarning: Precision and F-score are ill-defined and being set to 0.0 in labels with no predicted samples. Use `zero_division` parameter to control this behavior.\n",
      "  _warn_prf(average, modifier, msg_start, len(result))\n"
     ]
    },
    {
     "name": "stdout",
     "output_type": "stream",
     "text": [
      "              precision    recall  f1-score   support\n",
      "\n",
      "           1       0.69      1.00      0.81     26848\n",
      "           2       0.00      0.00      0.00     11526\n",
      "          2b       0.00      0.00      0.00       602\n",
      "           3       0.00      0.00      0.00        73\n",
      "\n",
      "    accuracy                           0.69     39049\n",
      "   macro avg       0.17      0.25      0.20     39049\n",
      "weighted avg       0.47      0.69      0.56     39049\n",
      "\n"
     ]
    }
   ],
   "source": [
    "print(np.unique(y_test))\n",
    "print(np.unique(yhat))\n",
    "print(\"Before: \",np.size(y_test), np.size(yhat))\n",
    "\n",
    "from sklearn.metrics import jaccard_similarity_score\n",
    "print ('jaccard_similarity_score:', jaccard_similarity_score(y_test, yhat))\n",
    "\n",
    "#from sklearn.metrics import log_loss\n",
    "#print ('log_loss: ', log_loss(y_test, yhat_prob))\n",
    "\n",
    "print (classification_report(y_test, yhat))"
   ]
  },
  {
   "cell_type": "code",
   "execution_count": 157,
   "metadata": {},
   "outputs": [
    {
     "name": "stdout",
     "output_type": "stream",
     "text": [
      "Confusion matrix, without normalization\n",
      "[[    0     0     0     0     0]\n",
      " [    0 26848     0     0     0]\n",
      " [    0 11526     0     0     0]\n",
      " [    0   602     0     0     0]\n",
      " [    0    73     0     0     0]]\n"
     ]
    },
    {
     "data": {
      "image/png": "[encoded data removed]",
      "text/plain": [
       "<Figure size 432x288 with 2 Axes>"
      ]
     },
     "metadata": {
      "needs_background": "light"
     },
     "output_type": "display_data"
    }
   ],
   "source": [
    "cnf_matrix = confusion_matrix(y_test, yhat, labels=[0,1,2,'2b',3])\n",
    "np.set_printoptions(precision=2)\n",
    "\n",
    "\n",
    "# Plot non-normalized confusion matrix\n",
    "plt.figure()\n",
    "plot_confusion_matrix(cnf_matrix, classes=['SC=0','SC=1','SC=2','SC=2b','SC=3'],normalize= False,  title='Confusion matrix (SC=SEVERITYCODE)')"
   ]
  },
  {
   "cell_type": "markdown",
   "metadata": {},
   "source": [
    "## Using Decision Tree"
   ]
  },
  {
   "cell_type": "code",
   "execution_count": 160,
   "metadata": {},
   "outputs": [],
   "source": [
    "coll_nature_pd = coll_pd[['SEVERITYCODE','ADDRTYPE','SEVERITYDESC','COLLISIONTYPE','WEATHER','ROADCOND','LIGHTCOND']]"
   ]
  },
  {
   "cell_type": "code",
   "execution_count": 161,
   "metadata": {},
   "outputs": [
    {
     "name": "stderr",
     "output_type": "stream",
     "text": [
      "C:\\java\\anaconda3\\lib\\site-packages\\ipykernel_launcher.py:3: SettingWithCopyWarning: \n",
      "A value is trying to be set on a copy of a slice from a DataFrame\n",
      "\n",
      "See the caveats in the documentation: https://pandas.pydata.org/pandas-docs/stable/user_guide/indexing.html#returning-a-view-versus-a-copy\n",
      "  This is separate from the ipykernel package so we can avoid doing imports until\n"
     ]
    },
    {
     "name": "stdout",
     "output_type": "stream",
     "text": [
      "shape before:  (221737, 7)\n",
      "shape after:  (195243, 7)\n"
     ]
    },
    {
     "data": {
      "text/plain": [
       "0    119554\n",
       "1     75689\n",
       "Name: LIGHTCOND, dtype: int64"
      ]
     },
     "execution_count": 161,
     "metadata": {},
     "output_type": "execute_result"
    }
   ],
   "source": [
    "#Data Preparation\n",
    "# 1. SEVERITYCODE, drop 'nan', nan\n",
    "coll_nature_pd.dropna(subset=['SEVERITYCODE'], how='all', inplace=True)\n",
    "coll_nature_pd = coll_nature_pd[coll_nature_pd['SEVERITYCODE']!='nan']\n",
    "coll_nature_pd['SEVERITYCODE'] = coll_nature_pd['SEVERITYCODE'].astype('str')\n",
    "coll_nature_pd['SEVERITYCODE'].value_counts()\n",
    "\n",
    "#Data Preparation\n",
    "# 2. drop nan records when all natural factors are nan\n",
    "print(\"shape before: \",coll_nature_pd.shape)\n",
    "coll_nature_pd.dropna(subset=['WEATHER','ROADCOND','LIGHTCOND'], how='all', inplace=True)\n",
    "print(\"shape after: \",coll_nature_pd.shape)\n",
    "\n",
    "#Data Preparation\n",
    "# 3. Standardize WEATHER: NaN to Unknown, Dry as 0, others as 1\n",
    "\n",
    "coll_nature_pd['WEATHER'] = coll_nature_pd['WEATHER'].replace(np.nan, 'Unknown')\n",
    "unique_values = coll_nature_pd.WEATHER.unique().tolist()\n",
    "unique_values.remove('Clear')\n",
    "coll_nature_pd['WEATHER'] = coll_nature_pd['WEATHER'].replace(unique_values, 1)\n",
    "coll_nature_pd['WEATHER'] = coll_nature_pd['WEATHER'].replace('Clear', 0)\n",
    "coll_nature_pd['WEATHER'].value_counts()\n",
    "\n",
    "#Data Preparation\n",
    "# 4. Standardize ROADCOND: NaN to Unknown, Dry as 0, others as 1\n",
    "\n",
    "coll_nature_pd['ROADCOND'] = coll_nature_pd['ROADCOND'].replace(np.nan, 'Unknown')\n",
    "unique_values = coll_nature_pd.ROADCOND.unique().tolist()\n",
    "unique_values.remove('Dry')\n",
    "coll_nature_pd['ROADCOND'] = coll_nature_pd['ROADCOND'].replace(unique_values, 1)\n",
    "coll_nature_pd['ROADCOND'] = coll_nature_pd['ROADCOND'].replace('Dry', 0)\n",
    "coll_nature_pd['ROADCOND'].value_counts()\n",
    "\n",
    "#Data Preparation\n",
    "# 5. Standardize LIGHTCOND: NaN to Unknown, Daylight as 0, others as 1\n",
    "\n",
    "coll_nature_pd['LIGHTCOND'] = coll_nature_pd['LIGHTCOND'].replace(np.nan, 'Unknown')\n",
    "unique_values = coll_nature_pd.LIGHTCOND.unique().tolist()\n",
    "unique_values.remove('Daylight')\n",
    "coll_nature_pd['LIGHTCOND'] = coll_nature_pd['LIGHTCOND'].replace(unique_values, 1)\n",
    "coll_nature_pd['LIGHTCOND'] = coll_nature_pd['LIGHTCOND'].replace('Daylight', 0)\n",
    "coll_nature_pd['LIGHTCOND'].value_counts()\n",
    "\n"
   ]
  },
  {
   "cell_type": "code",
   "execution_count": 162,
   "metadata": {},
   "outputs": [],
   "source": [
    "X = coll_nature_pd[['WEATHER','ROADCOND','LIGHTCOND']].values\n",
    "y = coll_nature_pd['SEVERITYCODE']"
   ]
  },
  {
   "cell_type": "code",
   "execution_count": 164,
   "metadata": {},
   "outputs": [
    {
     "name": "stdout",
     "output_type": "stream",
     "text": [
      "DecisionTrees's Accuracy:  0.6875464160413839\n"
     ]
    }
   ],
   "source": [
    "from sklearn.model_selection import train_test_split\n",
    "X_trainset, X_testset, y_trainset, y_testset = train_test_split(X, y, test_size=0.2, random_state=4)\n",
    "\n",
    "from sklearn.tree import DecisionTreeClassifier\n",
    "tree = DecisionTreeClassifier(criterion=\"entropy\", max_depth = 5)\n",
    "tree.fit(X_trainset,y_trainset)\n",
    "predTree = tree.predict(X_testset)\n",
    "\n",
    "from sklearn import metrics\n",
    "import matplotlib.pyplot as plt\n",
    "print(\"DecisionTrees's Accuracy: \", metrics.accuracy_score(y_testset, predTree))"
   ]
  },
  {
   "cell_type": "code",
   "execution_count": 167,
   "metadata": {},
   "outputs": [],
   "source": [
    "X = coll_human_pd[['INATTENTIONIND','UNDERINFL','PEDROWNOTGRNT','SPEEDING']].values\n",
    "y = coll_human_pd['SEVERITYCODE']"
   ]
  },
  {
   "cell_type": "code",
   "execution_count": 168,
   "metadata": {},
   "outputs": [
    {
     "name": "stdout",
     "output_type": "stream",
     "text": [
      "DecisionTrees's Accuracy:  0.7090960292875247\n"
     ]
    }
   ],
   "source": [
    "from sklearn.model_selection import train_test_split\n",
    "X_trainset, X_testset, y_trainset, y_testset = train_test_split(X, y, test_size=0.2, random_state=4)\n",
    "\n",
    "from sklearn.tree import DecisionTreeClassifier\n",
    "tree = DecisionTreeClassifier(criterion=\"entropy\", max_depth = 5)\n",
    "tree.fit(X_trainset,y_trainset)\n",
    "predTree = tree.predict(X_testset)\n",
    "\n",
    "from sklearn import metrics\n",
    "import matplotlib.pyplot as plt\n",
    "print(\"DecisionTrees's Accuracy: \", metrics.accuracy_score(y_testset, predTree))"
   ]
  },
  {
   "cell_type": "code",
   "execution_count": 171,
   "metadata": {},
   "outputs": [
    {
     "name": "stdout",
     "output_type": "stream",
     "text": [
      "Collecting pydotplus\n",
      "  Downloading pydotplus-2.0.2.tar.gz (278 kB)\n",
      "Requirement already satisfied: pyparsing>=2.0.1 in c:\\java\\anaconda3\\lib\\site-packages (from pydotplus) (2.4.6)\n",
      "Building wheels for collected packages: pydotplus\n",
      "  Building wheel for pydotplus (setup.py): started\n",
      "  Building wheel for pydotplus (setup.py): finished with status 'done'\n",
      "  Created wheel for pydotplus: filename=pydotplus-2.0.2-py3-none-any.whl size=24572 sha256=5131af462e2c8a05018507ceb12bdd60e79cc2850697ec14ddeaf59680f1cc5c\n",
      "  Stored in directory: c:\\users\\damini karekar\\appdata\\local\\pip\\cache\\wheels\\1e\\7b\\04\\7387cf6cc9e48b4a96e361b0be812f0708b394b821bf8c9c50\n",
      "Successfully built pydotplus\n",
      "Installing collected packages: pydotplus\n",
      "Successfully installed pydotplus-2.0.2\n",
      "Note: you may need to restart the kernel to use updated packages.\n"
     ]
    }
   ],
   "source": [
    "pip install pydotplus"
   ]
  },
  {
   "cell_type": "code",
   "execution_count": null,
   "metadata": {},
   "outputs": [],
   "source": []
  }
 ],
 "metadata": {
  "kernelspec": {
   "display_name": "Python 3",
   "language": "python",
   "name": "python3"
  },
  "language_info": {
   "codemirror_mode": {
    "name": "ipython",
    "version": 3
   },
   "file_extension": ".py",
   "mimetype": "text/x-python",
   "name": "python",
   "nbconvert_exporter": "python",
   "pygments_lexer": "ipython3",
   "version": "3.7.6"
  }
 },
 "nbformat": 4,
 "nbformat_minor": 1
}
